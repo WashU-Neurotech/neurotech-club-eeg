{
 "cells": [
  {
   "cell_type": "code",
   "execution_count": 1,
   "metadata": {},
   "outputs": [],
   "source": [
    "import scipy.io\n",
    "import numpy as np\n",
    "import tensorflow as tf\n",
    "from tensorflow.keras.layers import Input, Dense\n",
    "from tensorflow.keras.models import Model\n",
    "import matplotlib.pyplot as plt\n",
    "import pandas as pd"
   ]
  },
  {
   "cell_type": "markdown",
   "metadata": {},
   "source": [
    "# Data Prep"
   ]
  },
  {
   "cell_type": "markdown",
   "metadata": {},
   "source": [
    "Load in mat file for subject_00 and get the positions for when eyes are closed and open."
   ]
  },
  {
   "cell_type": "code",
   "execution_count": 2,
   "metadata": {},
   "outputs": [
    {
     "name": "stdout",
     "output_type": "stream",
     "text": [
      "(63104, 19)\n",
      "[ 8351 19460 31435 41698 51722]\n",
      "[13864 25677 36685 46900 56838]\n"
     ]
    }
   ],
   "source": [
    "patient00_raw = scipy.io.loadmat(\"alpha-wave-testing/data/subject_00.mat\")[\"SIGNAL\"]\n",
    "print(patient00_raw.shape)\n",
    "\n",
    "begin_eyes_closed = np.where(patient00_raw[:, 17] == 1)[0]\n",
    "begin_eyes_open = np.where(patient00_raw[:, 18] == 1)[0]\n",
    "print(begin_eyes_closed)\n",
    "print(begin_eyes_open)\n",
    "\n",
    "eyes_closed_positions = np.array([[begin_eyes_closed[0], begin_eyes_open[0]-1]]) # inclusive\n",
    "for i in range(1, len(begin_eyes_closed)):\n",
    "    eyes_closed_positions = np.append(eyes_closed_positions, [[begin_eyes_closed[i], begin_eyes_open[i]-1]], axis=0)\n",
    "\n",
    "eyes_open_positions = np.array([[begin_eyes_open[0], begin_eyes_closed[1]-1]]) # inclusive\n",
    "for i in range(2, len(begin_eyes_open)):\n",
    "    eyes_open_positions = np.append(eyes_open_positions, [[begin_eyes_open[i-1], begin_eyes_closed[i]-1]], axis=0)\n",
    "eyes_open_positions = np.append(eyes_open_positions, [[begin_eyes_open[-1], patient00_raw.shape[0]-1]], axis=0)"
   ]
  },
  {
   "cell_type": "code",
   "execution_count": 3,
   "metadata": {},
   "outputs": [
    {
     "name": "stdout",
     "output_type": "stream",
     "text": [
      "[8351, 13864)\n",
      "[19460, 25677)\n",
      "[31435, 36685)\n",
      "[41698, 46900)\n",
      "[51722, 56838)\n",
      "eyes_closed_data.shape: (27298, 16)\n",
      "[13864, 19460)\n",
      "[25677, 31435)\n",
      "[36685, 41698)\n",
      "[46900, 51722)\n",
      "[56838, 63104)\n",
      "eyes_open_data.shape: (27455, 16)\n"
     ]
    }
   ],
   "source": [
    "start = eyes_closed_positions[0,0]\n",
    "end = eyes_closed_positions[0,1] + 1 # my data is inclusive\n",
    "print(\"[{}, {})\".format(start, end))\n",
    "eyes_closed_data = np.array(patient00_raw[start:end, 1:17]) # Get the eyes closed electrode data\n",
    "for start, end in eyes_closed_positions[1:]:\n",
    "    end = end + 1\n",
    "    print(\"[{}, {})\".format(start, end))\n",
    "    eyes_closed_data = np.append(eyes_closed_data, patient00_raw[start:end, 1:17], axis=0) # Get the eyes closed electrode data\n",
    "print(\"eyes_closed_data.shape:\", eyes_closed_data.shape)\n",
    "\n",
    "start = eyes_open_positions[0,0]\n",
    "end = eyes_open_positions[0,1] + 1 # my data is inclusive\n",
    "print(\"[{}, {})\".format(start, end))\n",
    "eyes_open_data = np.array(patient00_raw[start:end, 1:17]) # Get the eyes closed electrode data\n",
    "for start, end in eyes_open_positions[1:]:\n",
    "    end = end + 1\n",
    "    print(\"[{}, {})\".format(start, end))\n",
    "    eyes_open_data = np.append(eyes_open_data, patient00_raw[start:end, 1:17], axis=0) # Get the eyes closed electrode data\n",
    "print(\"eyes_open_data.shape:\", eyes_open_data.shape)"
   ]
  },
  {
   "cell_type": "code",
   "execution_count": 4,
   "metadata": {},
   "outputs": [
    {
     "name": "stdout",
     "output_type": "stream",
     "text": [
      "Positions that eyes are closed:\n",
      "8351 -> 13863\n",
      "19460 -> 25676\n",
      "31435 -> 36684\n",
      "41698 -> 46899\n",
      "51722 -> 56837\n",
      "\n",
      "Positions that eyes are open:\n",
      "13864 -> 19459\n",
      "25677 -> 31434\n",
      "36685 -> 41697\n",
      "46900 -> 51721\n",
      "56838 -> 63103\n",
      "\n",
      "Eyes Closed means and stds:\n",
      "Electrode 0 mean: 2393.1625859863984\tstd: 102.37631438912304\n",
      "Electrode 1 mean: -2249.199355238864\tstd: 78.46947809696026\n",
      "Electrode 2 mean: 533.4685234826966\tstd: 69.95080481148267\n",
      "Electrode 3 mean: -6726.559007355945\tstd: 67.53860757741114\n",
      "Electrode 4 mean: -6250.405872854165\tstd: 85.96307594809424\n",
      "Electrode 5 mean: -11399.557228425892\tstd: 99.62630416892577\n",
      "Electrode 6 mean: -2556.808311162763\tstd: 108.94293391521614\n",
      "Electrode 7 mean: -13934.866184352628\tstd: 34.85244377232378\n",
      "Electrode 8 mean: -1780.5565228617702\tstd: 62.990025752559724\n",
      "Electrode 9 mean: -3743.1278419263463\tstd: 121.28484972560838\n",
      "Electrode 10 mean: -5968.0263076087185\tstd: 135.42210672076934\n",
      "Electrode 11 mean: -12295.482942705474\tstd: 35.45499566468557\n",
      "Electrode 12 mean: -7241.521652731371\tstd: 32.77906622373574\n",
      "Electrode 13 mean: 60.65990296015415\tstd: 37.49429676908615\n",
      "Electrode 14 mean: 446.9625525996652\tstd: 47.84453769562826\n",
      "Electrode 15 mean: -3234.0264249017587\tstd: 31.893142410605044\n",
      "\n",
      "Eyes Open means and stds:\n",
      "Electrode 0 mean: 2177.976275606378\tstd: 95.79337775232872\n",
      "Electrode 1 mean: -2403.432740562076\tstd: 71.03334485704225\n",
      "Electrode 2 mean: 491.0250788450009\tstd: 65.35050086743833\n",
      "Electrode 3 mean: -6838.252981035451\tstd: 88.06633906426167\n",
      "Electrode 4 mean: -6283.481241839872\tstd: 77.75637569361953\n",
      "Electrode 5 mean: -11476.680200514624\tstd: 99.03275380522484\n",
      "Electrode 6 mean: -2563.2535409881298\tstd: 90.25791551944631\n",
      "Electrode 7 mean: -13971.400027667565\tstd: 35.531313105704875\n",
      "Electrode 8 mean: -1830.6291264174138\tstd: 76.00063466481926\n",
      "Electrode 9 mean: -3728.064134894715\tstd: 119.12014864770511\n",
      "Electrode 10 mean: -5954.648764796671\tstd: 132.30394669678938\n",
      "Electrode 11 mean: -12316.221193661811\tstd: 29.418516788561096\n",
      "Electrode 12 mean: -7276.437130453215\tstd: 26.853853842057568\n",
      "Electrode 13 mean: 34.95378015559484\tstd: 29.295126623300575\n",
      "Electrode 14 mean: 441.49483022780663\tstd: 48.4698658658779\n",
      "Electrode 15 mean: -3237.543790239742\tstd: 34.65307863744795\n",
      "\n"
     ]
    },
    {
     "data": {
      "image/png": "[encoded data removed]",
      "text/plain": [
       "<Figure size 432x288 with 1 Axes>"
      ]
     },
     "metadata": {
      "needs_background": "light"
     },
     "output_type": "display_data"
    }
   ],
   "source": [
    "# Find the means and standard deviations per electrode and display.\n",
    "# Note: this is just for visualization of the data; won't be used for model\n",
    "eyes_closed_means = np.mean(eyes_closed_data, axis=0)\n",
    "eyes_closed_stds = np.std(eyes_closed_data, axis=0)\n",
    "\n",
    "eyes_open_means = np.mean(eyes_open_data, axis=0)\n",
    "eyes_open_stds = np.std(eyes_open_data, axis=0)\n",
    "\n",
    "print(\"Positions that eyes are closed:\")\n",
    "for start, end in eyes_closed_positions:\n",
    "    print(start, \"->\", end)\n",
    "print()\n",
    "print(\"Positions that eyes are open:\")\n",
    "for start, end in eyes_open_positions:\n",
    "    print(start, \"->\", end)\n",
    "print()\n",
    "\n",
    "print(\"Eyes Closed means and stds:\")\n",
    "for i in range(len(eyes_closed_means)):\n",
    "    print(\"Electrode {} mean: {}\\tstd: {}\".format(i, eyes_closed_means[i], eyes_closed_stds[i]))\n",
    "print()\n",
    "\n",
    "print(\"Eyes Open means and stds:\")\n",
    "for i in range(len(eyes_open_means)):\n",
    "    print(\"Electrode {} mean: {}\\tstd: {}\".format(i, eyes_open_means[i], eyes_open_stds[i]))\n",
    "print()\n",
    "\n",
    "labels = [\"E\"+str(i) for i in range(16)]\n",
    "x = np.arange(len(labels))\n",
    "width=0.35\n",
    "\n",
    "fig, ax = plt.subplots()\n",
    "rects_eyes_closed = ax.bar(x-width/2, eyes_closed_means, width, label=\"Eyes Closed\")\n",
    "rects_eyes_open = ax.bar(x+width/2, eyes_open_means, width, label=\"Eyes Open\")\n",
    "\n",
    "plt.rcParams['figure.figsize'] = [15, 10] # https://stackoverflow.com/questions/36367986/how-to-make-inline-plots-in-jupyter-notebook-larger\n",
    "ax.set_xticks(x)\n",
    "ax.set_xticklabels(labels)\n",
    "ax.legend()\n",
    "\n",
    "fig.tight_layout()"
   ]
  },
  {
   "cell_type": "code",
   "execution_count": 5,
   "metadata": {},
   "outputs": [
    {
     "name": "stdout",
     "output_type": "stream",
     "text": [
      "[  2285.26091573  -2326.53717406    512.18594951  -6782.56613112\n",
      "  -6266.99097788 -11438.22928655  -2560.04016667 -13953.185485\n",
      "  -1805.6646143   -3735.5743914   -5961.31835667 -12305.88180085\n",
      "  -7259.02945031     47.7699864     444.22085228  -3235.79015046]\n",
      "[146.29751199 107.45668447  70.93212913  96.34319735  83.60274292\n",
      " 106.55163222 100.06285958  39.65261293  74.1709095  120.44000388\n",
      " 134.03463383  34.17907767  34.67076406  36.00594493  48.23664714\n",
      "  33.35206823]\n",
      "\n",
      "[ 1.02987364e-15  4.04474567e-15  1.11292797e-15  2.98995573e-16\n",
      "  9.38513883e-16 -9.36852797e-15 -9.38513883e-16  1.95156902e-14\n",
      "  2.25907767e-15  5.31547686e-16 -6.97656338e-16 -8.38848692e-15\n",
      " -1.36873529e-14  1.66108652e-17  6.97656338e-16  3.02317746e-15]\n",
      "[1. 1. 1. 1. 1. 1. 1. 1. 1. 1. 1. 1. 1. 1. 1. 1.]\n",
      "(54753, 16)\n"
     ]
    }
   ],
   "source": [
    "# Label times when eyes are closed with 0 and times when eyes are open with 1\n",
    "eyes_closed_labels = np.zeros(eyes_closed_data.shape[0])\n",
    "eyes_open_labels = np.ones(eyes_open_data.shape[0]) # open is 1\n",
    "eyes_data = np.concatenate([eyes_closed_data, eyes_open_data])\n",
    "eyes_labels = np.concatenate([eyes_closed_labels, eyes_open_labels])\n",
    "\n",
    "eyes_data_means = np.mean(eyes_data, axis=0)\n",
    "eyes_data_stds = np.std(eyes_data, axis=0)\n",
    "\n",
    "print(eyes_data_means)\n",
    "print(eyes_data_stds)\n",
    "print()\n",
    "normalized_eyes_data = np.subtract(eyes_data, eyes_data_means)\n",
    "normalized_eyes_data = np.divide(normalized_eyes_data, eyes_data_stds)\n",
    "print(np.mean(normalized_eyes_data, axis=0)) # should now see centered around 0 w/ std dev about 1 per electrode. This will help when training model\n",
    "print(np.std(normalized_eyes_data, axis=0))\n",
    "print(normalized_eyes_data.shape)"
   ]
  },
  {
   "cell_type": "code",
   "execution_count": 6,
   "metadata": {},
   "outputs": [
    {
     "data": {
      "text/html": [
       "<div>\n",
       "<style scoped>\n",
       "    .dataframe tbody tr th:only-of-type {\n",
       "        vertical-align: middle;\n",
       "    }\n",
       "\n",
       "    .dataframe tbody tr th {\n",
       "        vertical-align: top;\n",
       "    }\n",
       "\n",
       "    .dataframe thead th {\n",
       "        text-align: right;\n",
       "    }\n",
       "</style>\n",
       "<table border=\"1\" class=\"dataframe\">\n",
       "  <thead>\n",
       "    <tr style=\"text-align: right;\">\n",
       "      <th></th>\n",
       "      <th>0</th>\n",
       "      <th>1</th>\n",
       "      <th>2</th>\n",
       "      <th>3</th>\n",
       "      <th>4</th>\n",
       "      <th>5</th>\n",
       "      <th>6</th>\n",
       "      <th>7</th>\n",
       "      <th>8</th>\n",
       "      <th>9</th>\n",
       "      <th>10</th>\n",
       "      <th>11</th>\n",
       "      <th>12</th>\n",
       "      <th>13</th>\n",
       "      <th>14</th>\n",
       "      <th>15</th>\n",
       "      <th>Labels</th>\n",
       "    </tr>\n",
       "  </thead>\n",
       "  <tbody>\n",
       "    <tr>\n",
       "      <th>53713</th>\n",
       "      <td>-2.302892</td>\n",
       "      <td>-0.833702</td>\n",
       "      <td>-0.667748</td>\n",
       "      <td>-2.742857</td>\n",
       "      <td>0.310986</td>\n",
       "      <td>-2.115146</td>\n",
       "      <td>0.022189</td>\n",
       "      <td>0.096171</td>\n",
       "      <td>-2.641356</td>\n",
       "      <td>0.913593</td>\n",
       "      <td>0.753158</td>\n",
       "      <td>-1.863663</td>\n",
       "      <td>-1.968428</td>\n",
       "      <td>-1.737721</td>\n",
       "      <td>-0.409561</td>\n",
       "      <td>-0.776111</td>\n",
       "      <td>1</td>\n",
       "    </tr>\n",
       "    <tr>\n",
       "      <th>9018</th>\n",
       "      <td>1.081946</td>\n",
       "      <td>0.893079</td>\n",
       "      <td>-0.247972</td>\n",
       "      <td>1.232661</td>\n",
       "      <td>-0.581722</td>\n",
       "      <td>1.087847</td>\n",
       "      <td>-0.465234</td>\n",
       "      <td>-0.505810</td>\n",
       "      <td>0.656635</td>\n",
       "      <td>-0.416120</td>\n",
       "      <td>-0.603017</td>\n",
       "      <td>1.193449</td>\n",
       "      <td>1.987436</td>\n",
       "      <td>0.073564</td>\n",
       "      <td>-0.739777</td>\n",
       "      <td>0.655526</td>\n",
       "      <td>0</td>\n",
       "    </tr>\n",
       "    <tr>\n",
       "      <th>14341</th>\n",
       "      <td>1.050047</td>\n",
       "      <td>1.143473</td>\n",
       "      <td>1.313389</td>\n",
       "      <td>1.449400</td>\n",
       "      <td>1.055690</td>\n",
       "      <td>0.440833</td>\n",
       "      <td>0.648117</td>\n",
       "      <td>-0.083490</td>\n",
       "      <td>0.597131</td>\n",
       "      <td>0.081305</td>\n",
       "      <td>0.286693</td>\n",
       "      <td>0.995988</td>\n",
       "      <td>-0.102748</td>\n",
       "      <td>-0.746236</td>\n",
       "      <td>-0.477934</td>\n",
       "      <td>-0.495509</td>\n",
       "      <td>0</td>\n",
       "    </tr>\n",
       "    <tr>\n",
       "      <th>44903</th>\n",
       "      <td>-0.881544</td>\n",
       "      <td>-0.568338</td>\n",
       "      <td>0.205405</td>\n",
       "      <td>-0.803800</td>\n",
       "      <td>0.305414</td>\n",
       "      <td>-0.997043</td>\n",
       "      <td>0.851387</td>\n",
       "      <td>-0.454855</td>\n",
       "      <td>-0.538912</td>\n",
       "      <td>0.821949</td>\n",
       "      <td>0.889051</td>\n",
       "      <td>-0.327778</td>\n",
       "      <td>-0.055019</td>\n",
       "      <td>0.362068</td>\n",
       "      <td>0.671538</td>\n",
       "      <td>0.919365</td>\n",
       "      <td>1</td>\n",
       "    </tr>\n",
       "    <tr>\n",
       "      <th>20890</th>\n",
       "      <td>0.582537</td>\n",
       "      <td>1.209634</td>\n",
       "      <td>1.426054</td>\n",
       "      <td>0.588084</td>\n",
       "      <td>1.411177</td>\n",
       "      <td>-0.182040</td>\n",
       "      <td>1.145790</td>\n",
       "      <td>2.509315</td>\n",
       "      <td>0.068882</td>\n",
       "      <td>1.145575</td>\n",
       "      <td>1.240872</td>\n",
       "      <td>1.933719</td>\n",
       "      <td>0.923409</td>\n",
       "      <td>1.117055</td>\n",
       "      <td>1.725678</td>\n",
       "      <td>2.070861</td>\n",
       "      <td>0</td>\n",
       "    </tr>\n",
       "  </tbody>\n",
       "</table>\n",
       "</div>"
      ],
      "text/plain": [
       "              0         1         2         3         4         5         6  \\\n",
       "53713 -2.302892 -0.833702 -0.667748 -2.742857  0.310986 -2.115146  0.022189   \n",
       "9018   1.081946  0.893079 -0.247972  1.232661 -0.581722  1.087847 -0.465234   \n",
       "14341  1.050047  1.143473  1.313389  1.449400  1.055690  0.440833  0.648117   \n",
       "44903 -0.881544 -0.568338  0.205405 -0.803800  0.305414 -0.997043  0.851387   \n",
       "20890  0.582537  1.209634  1.426054  0.588084  1.411177 -0.182040  1.145790   \n",
       "\n",
       "              7         8         9        10        11        12        13  \\\n",
       "53713  0.096171 -2.641356  0.913593  0.753158 -1.863663 -1.968428 -1.737721   \n",
       "9018  -0.505810  0.656635 -0.416120 -0.603017  1.193449  1.987436  0.073564   \n",
       "14341 -0.083490  0.597131  0.081305  0.286693  0.995988 -0.102748 -0.746236   \n",
       "44903 -0.454855 -0.538912  0.821949  0.889051 -0.327778 -0.055019  0.362068   \n",
       "20890  2.509315  0.068882  1.145575  1.240872  1.933719  0.923409  1.117055   \n",
       "\n",
       "             14        15  Labels  \n",
       "53713 -0.409561 -0.776111       1  \n",
       "9018  -0.739777  0.655526       0  \n",
       "14341 -0.477934 -0.495509       0  \n",
       "44903  0.671538  0.919365       1  \n",
       "20890  1.725678  2.070861       0  "
      ]
     },
     "execution_count": 6,
     "metadata": {},
     "output_type": "execute_result"
    }
   ],
   "source": [
    "# Shuffle the data\n",
    "pd_normalized_eyes_data = pd.DataFrame(normalized_eyes_data)\n",
    "pd_normalized_eyes_data[\"Labels\"] = eyes_labels\n",
    "pd_normalized_eyes_data[\"Labels\"] = pd_normalized_eyes_data[\"Labels\"].astype(\"int\")\n",
    "pd_normalized_eyes_data = pd_normalized_eyes_data.sample(frac=1)\n",
    "pd_normalized_eyes_data.head()"
   ]
  },
  {
   "cell_type": "code",
   "execution_count": 7,
   "metadata": {},
   "outputs": [
    {
     "name": "stdout",
     "output_type": "stream",
     "text": [
      "(38327, 17) (8213, 17) (8213, 17)\n",
      "(38327, 16) (8213, 16) (8213, 16)\n",
      "(38327,) (8213,) (8213,)\n"
     ]
    }
   ],
   "source": [
    "# Split into train/val/test\n",
    "df_train_data = pd_normalized_eyes_data.iloc[0:int(0.7 * len(pd_normalized_eyes_data))]\n",
    "df_val_data = pd_normalized_eyes_data.iloc[int(0.7 * len(pd_normalized_eyes_data)): int(0.85 * len(pd_normalized_eyes_data))]\n",
    "df_test_data = pd_normalized_eyes_data.iloc[int(0.85 * len(pd_normalized_eyes_data)):]\n",
    "print(df_train_data.shape, df_val_data.shape, df_test_data.shape)\n",
    "\n",
    "train_data = df_train_data.iloc[:, 0:16].copy().to_numpy()\n",
    "train_labels = df_train_data[\"Labels\"].copy().to_numpy()\n",
    "\n",
    "val_data = df_val_data.iloc[:, 0:16].copy().to_numpy()\n",
    "val_labels = df_val_data[\"Labels\"].copy().to_numpy()\n",
    "\n",
    "test_data = df_test_data.iloc[:, 0:16].copy().to_numpy()\n",
    "test_labels = df_test_data[\"Labels\"].copy().to_numpy()\n",
    "\n",
    "print(train_data.shape, val_data.shape, test_data.shape)\n",
    "print(train_labels.shape, val_labels.shape, test_labels.shape)"
   ]
  },
  {
   "cell_type": "markdown",
   "metadata": {},
   "source": [
    "# Build and Train Model"
   ]
  },
  {
   "cell_type": "code",
   "execution_count": 8,
   "metadata": {},
   "outputs": [],
   "source": [
    "# This is our model. To understand what each line means, see https://www.tensorflow.org/guide/keras/functional\n",
    "def get_model(input_shape):\n",
    "    x_input = Input(input_shape)\n",
    "    x = Dense(32, activation=\"relu\")(x_input)\n",
    "    x = Dense(1, activation=\"sigmoid\")(x)\n",
    "    model = Model(inputs=x_input, outputs=x)\n",
    "    return model"
   ]
  },
  {
   "cell_type": "code",
   "execution_count": 9,
   "metadata": {},
   "outputs": [],
   "source": [
    "model = get_model(train_data.shape[1]) # create an instance of the model"
   ]
  },
  {
   "cell_type": "code",
   "execution_count": 10,
   "metadata": {},
   "outputs": [
    {
     "name": "stdout",
     "output_type": "stream",
     "text": [
      "Model: \"functional_1\"\n",
      "_________________________________________________________________\n",
      "Layer (type)                 Output Shape              Param #   \n",
      "=================================================================\n",
      "input_1 (InputLayer)         [(None, 16)]              0         \n",
      "_________________________________________________________________\n",
      "dense (Dense)                (None, 32)                544       \n",
      "_________________________________________________________________\n",
      "dense_1 (Dense)              (None, 1)                 33        \n",
      "=================================================================\n",
      "Total params: 577\n",
      "Trainable params: 577\n",
      "Non-trainable params: 0\n",
      "_________________________________________________________________\n"
     ]
    }
   ],
   "source": [
    "model.summary()"
   ]
  },
  {
   "cell_type": "code",
   "execution_count": 11,
   "metadata": {},
   "outputs": [],
   "source": [
    "# Before fitting, we have to compile the model with an optimizer (how the network adjusts the weights), loss function (what the model is\n",
    "# optimized to), and any metrics we are interested in.\n",
    "model.compile(optimizer=\"adam\", loss=tf.keras.losses.BinaryCrossentropy(from_logits=False), metrics=[tf.keras.metrics.BinaryAccuracy(threshold=0.5)])"
   ]
  },
  {
   "cell_type": "code",
   "execution_count": 12,
   "metadata": {},
   "outputs": [
    {
     "name": "stdout",
     "output_type": "stream",
     "text": [
      "Epoch 1/15\n",
      "1198/1198 [==============================] - 1s 736us/step - loss: 0.2805 - binary_accuracy: 0.8889 - val_loss: 0.2162 - val_binary_accuracy: 0.9078\n",
      "Epoch 2/15\n",
      "1198/1198 [==============================] - 1s 574us/step - loss: 0.1806 - binary_accuracy: 0.9181 - val_loss: 0.1480 - val_binary_accuracy: 0.9318\n",
      "Epoch 3/15\n",
      "1198/1198 [==============================] - 1s 577us/step - loss: 0.1268 - binary_accuracy: 0.9469 - val_loss: 0.1100 - val_binary_accuracy: 0.9586\n",
      "Epoch 4/15\n",
      "1198/1198 [==============================] - 1s 592us/step - loss: 0.0989 - binary_accuracy: 0.9638 - val_loss: 0.0913 - val_binary_accuracy: 0.9683\n",
      "Epoch 5/15\n",
      "1198/1198 [==============================] - 1s 625us/step - loss: 0.0848 - binary_accuracy: 0.9697 - val_loss: 0.0811 - val_binary_accuracy: 0.9696\n",
      "Epoch 6/15\n",
      "1198/1198 [==============================] - 1s 565us/step - loss: 0.0761 - binary_accuracy: 0.9719 - val_loss: 0.0736 - val_binary_accuracy: 0.9718\n",
      "Epoch 7/15\n",
      "1198/1198 [==============================] - 1s 674us/step - loss: 0.0696 - binary_accuracy: 0.9745 - val_loss: 0.0676 - val_binary_accuracy: 0.9743\n",
      "Epoch 8/15\n",
      "1198/1198 [==============================] - 1s 575us/step - loss: 0.0652 - binary_accuracy: 0.9754 - val_loss: 0.0643 - val_binary_accuracy: 0.9756\n",
      "Epoch 9/15\n",
      "1198/1198 [==============================] - 1s 566us/step - loss: 0.0619 - binary_accuracy: 0.9768 - val_loss: 0.0625 - val_binary_accuracy: 0.9765\n",
      "Epoch 10/15\n",
      "1198/1198 [==============================] - 1s 561us/step - loss: 0.0594 - binary_accuracy: 0.9779 - val_loss: 0.0584 - val_binary_accuracy: 0.9780\n",
      "Epoch 11/15\n",
      "1198/1198 [==============================] - 1s 683us/step - loss: 0.0566 - binary_accuracy: 0.9792 - val_loss: 0.0569 - val_binary_accuracy: 0.9771\n",
      "Epoch 12/15\n",
      "1198/1198 [==============================] - 1s 633us/step - loss: 0.0546 - binary_accuracy: 0.9788 - val_loss: 0.0528 - val_binary_accuracy: 0.9795\n",
      "Epoch 13/15\n",
      "1198/1198 [==============================] - 1s 561us/step - loss: 0.0526 - binary_accuracy: 0.9796 - val_loss: 0.0517 - val_binary_accuracy: 0.9803\n",
      "Epoch 14/15\n",
      "1198/1198 [==============================] - 1s 575us/step - loss: 0.0505 - binary_accuracy: 0.9810 - val_loss: 0.0502 - val_binary_accuracy: 0.9800\n",
      "Epoch 15/15\n",
      "1198/1198 [==============================] - 1s 567us/step - loss: 0.0498 - binary_accuracy: 0.9808 - val_loss: 0.0500 - val_binary_accuracy: 0.9810\n"
     ]
    }
   ],
   "source": [
    "# Fit the model! (You can run this; this is such a small model that it only took like 10 seconds on my CPU)\n",
    "history = model.fit(x=train_data,\n",
    "                    y=train_labels,\n",
    "                    validation_data=(val_data, val_labels),\n",
    "                    batch_size=32,\n",
    "                    epochs=15)"
   ]
  },
  {
   "cell_type": "code",
   "execution_count": 13,
   "metadata": {},
   "outputs": [
    {
     "data": {
      "image/png": "[encoded data removed]",
      "text/plain": [
       "<Figure size 1080x720 with 1 Axes>"
      ]
     },
     "metadata": {
      "needs_background": "light"
     },
     "output_type": "display_data"
    }
   ],
   "source": [
    "# See how the loss and validation loss change over time\n",
    "loss = history.history[\"loss\"]\n",
    "val_loss = history.history[\"val_loss\"]\n",
    "plt.plot(loss)\n",
    "plt.plot(val_loss)\n",
    "plt.legend([\"loss\",\"val_loss\"]);"
   ]
  },
  {
   "cell_type": "code",
   "execution_count": 14,
   "metadata": {},
   "outputs": [
    {
     "name": "stdout",
     "output_type": "stream",
     "text": [
      "257/257 [==============================] - 0s 444us/step - loss: 0.0507 - binary_accuracy: 0.9792\n"
     ]
    },
    {
     "data": {
      "text/plain": [
       "[0.05074014887213707, 0.979179322719574]"
      ]
     },
     "execution_count": 14,
     "metadata": {},
     "output_type": "execute_result"
    }
   ],
   "source": [
    "# Only evaluate your model on the test data after creating the final model. Normally, there are many iterations\n",
    "# in improving hyperparameters and model architectures. The validation set is what you want to optimize to for that.\n",
    "# The point of the separate test set is to get a final metric on how the model will perform on completely new data\n",
    "# that the model has never trained on nor been optimized to (i.e. give you an understanding of \"real world\" performance.\n",
    "model.evaluate(x=test_data, y=test_labels)"
   ]
  },
  {
   "cell_type": "code",
   "execution_count": 15,
   "metadata": {},
   "outputs": [
    {
     "data": {
      "text/plain": [
       "\u001b[0;31mSignature:\u001b[0m\n",
       "\u001b[0mmodel\u001b[0m\u001b[0;34m.\u001b[0m\u001b[0msave\u001b[0m\u001b[0;34m(\u001b[0m\u001b[0;34m\u001b[0m\n",
       "\u001b[0;34m\u001b[0m    \u001b[0mfilepath\u001b[0m\u001b[0;34m,\u001b[0m\u001b[0;34m\u001b[0m\n",
       "\u001b[0;34m\u001b[0m    \u001b[0moverwrite\u001b[0m\u001b[0;34m=\u001b[0m\u001b[0;32mTrue\u001b[0m\u001b[0;34m,\u001b[0m\u001b[0;34m\u001b[0m\n",
       "\u001b[0;34m\u001b[0m    \u001b[0minclude_optimizer\u001b[0m\u001b[0;34m=\u001b[0m\u001b[0;32mTrue\u001b[0m\u001b[0;34m,\u001b[0m\u001b[0;34m\u001b[0m\n",
       "\u001b[0;34m\u001b[0m    \u001b[0msave_format\u001b[0m\u001b[0;34m=\u001b[0m\u001b[0;32mNone\u001b[0m\u001b[0;34m,\u001b[0m\u001b[0;34m\u001b[0m\n",
       "\u001b[0;34m\u001b[0m    \u001b[0msignatures\u001b[0m\u001b[0;34m=\u001b[0m\u001b[0;32mNone\u001b[0m\u001b[0;34m,\u001b[0m\u001b[0;34m\u001b[0m\n",
       "\u001b[0;34m\u001b[0m    \u001b[0moptions\u001b[0m\u001b[0;34m=\u001b[0m\u001b[0;32mNone\u001b[0m\u001b[0;34m,\u001b[0m\u001b[0;34m\u001b[0m\n",
       "\u001b[0;34m\u001b[0m\u001b[0;34m)\u001b[0m\u001b[0;34m\u001b[0m\u001b[0;34m\u001b[0m\u001b[0m\n",
       "\u001b[0;31mDocstring:\u001b[0m\n",
       "Saves the model to Tensorflow SavedModel or a single HDF5 file.\n",
       "\n",
       "The savefile includes:\n",
       "\n",
       "- The model architecture, allowing to re-instantiate the model.\n",
       "- The model weights.\n",
       "- The state of the optimizer, allowing to resume training\n",
       "    exactly where you left off.\n",
       "\n",
       "This allows you to save the entirety of the state of a model\n",
       "in a single file.\n",
       "\n",
       "Saved models can be reinstantiated via `keras.models.load_model`.\n",
       "The model returned by `load_model` is a compiled model ready to be used\n",
       "(unless the saved model was never compiled in the first place).\n",
       "\n",
       "Models built with the Sequential and Functional API can be saved to both the\n",
       "HDF5 and SavedModel formats. Subclassed models can only be saved with the\n",
       "SavedModel format.\n",
       "\n",
       "Note that the model weights may have different scoped names after being\n",
       "loaded. Scoped names include the model/layer names, such as\n",
       "`\"dense_1/kernel:0\"`. It is recommended that you use the layer properties to\n",
       " access specific variables, e.g. `model.get_layer(\"dense_1\").kernel`.\n",
       "\n",
       "Arguments:\n",
       "    filepath: String, PathLike, path to SavedModel or H5 file to save the\n",
       "        model.\n",
       "    overwrite: Whether to silently overwrite any existing file at the\n",
       "        target location, or provide the user with a manual prompt.\n",
       "    include_optimizer: If True, save optimizer's state together.\n",
       "    save_format: Either `'tf'` or `'h5'`, indicating whether to save the\n",
       "        model to Tensorflow SavedModel or HDF5. Defaults to 'tf' in TF 2.X,\n",
       "        and 'h5' in TF 1.X.\n",
       "    signatures: Signatures to save with the SavedModel. Applicable to the\n",
       "        'tf' format only. Please see the `signatures` argument in\n",
       "        `tf.saved_model.save` for details.\n",
       "    options: Optional `tf.saved_model.SaveOptions` object that specifies\n",
       "        options for saving to SavedModel.\n",
       "\n",
       "Example:\n",
       "\n",
       "```python\n",
       "from keras.models import load_model\n",
       "\n",
       "model.save('my_model.h5')  # creates a HDF5 file 'my_model.h5'\n",
       "del model  # deletes the existing model\n",
       "\n",
       "# returns a compiled model\n",
       "# identical to the previous one\n",
       "model = load_model('my_model.h5')\n",
       "```\n",
       "\u001b[0;31mFile:\u001b[0m      /usr/local/lib/python3.8/site-packages/tensorflow/python/keras/engine/training.py\n",
       "\u001b[0;31mType:\u001b[0m      method\n"
      ]
     },
     "metadata": {},
     "output_type": "display_data"
    }
   ],
   "source": [
    "# How you can save the model\n",
    "model.save?"
   ]
  },
  {
   "cell_type": "code",
   "execution_count": 16,
   "metadata": {},
   "outputs": [
    {
     "data": {
      "text/plain": [
       "\u001b[0;31mSignature:\u001b[0m\n",
       "\u001b[0mmodel\u001b[0m\u001b[0;34m.\u001b[0m\u001b[0msave_weights\u001b[0m\u001b[0;34m(\u001b[0m\u001b[0;34m\u001b[0m\n",
       "\u001b[0;34m\u001b[0m    \u001b[0mfilepath\u001b[0m\u001b[0;34m,\u001b[0m\u001b[0;34m\u001b[0m\n",
       "\u001b[0;34m\u001b[0m    \u001b[0moverwrite\u001b[0m\u001b[0;34m=\u001b[0m\u001b[0;32mTrue\u001b[0m\u001b[0;34m,\u001b[0m\u001b[0;34m\u001b[0m\n",
       "\u001b[0;34m\u001b[0m    \u001b[0msave_format\u001b[0m\u001b[0;34m=\u001b[0m\u001b[0;32mNone\u001b[0m\u001b[0;34m,\u001b[0m\u001b[0;34m\u001b[0m\n",
       "\u001b[0;34m\u001b[0m    \u001b[0moptions\u001b[0m\u001b[0;34m=\u001b[0m\u001b[0;32mNone\u001b[0m\u001b[0;34m,\u001b[0m\u001b[0;34m\u001b[0m\n",
       "\u001b[0;34m\u001b[0m\u001b[0;34m)\u001b[0m\u001b[0;34m\u001b[0m\u001b[0;34m\u001b[0m\u001b[0m\n",
       "\u001b[0;31mDocstring:\u001b[0m\n",
       "Saves all layer weights.\n",
       "\n",
       "Either saves in HDF5 or in TensorFlow format based on the `save_format`\n",
       "argument.\n",
       "\n",
       "When saving in HDF5 format, the weight file has:\n",
       "  - `layer_names` (attribute), a list of strings\n",
       "      (ordered names of model layers).\n",
       "  - For every layer, a `group` named `layer.name`\n",
       "      - For every such layer group, a group attribute `weight_names`,\n",
       "          a list of strings\n",
       "          (ordered names of weights tensor of the layer).\n",
       "      - For every weight in the layer, a dataset\n",
       "          storing the weight value, named after the weight tensor.\n",
       "\n",
       "When saving in TensorFlow format, all objects referenced by the network are\n",
       "saved in the same format as `tf.train.Checkpoint`, including any `Layer`\n",
       "instances or `Optimizer` instances assigned to object attributes. For\n",
       "networks constructed from inputs and outputs using `tf.keras.Model(inputs,\n",
       "outputs)`, `Layer` instances used by the network are tracked/saved\n",
       "automatically. For user-defined classes which inherit from `tf.keras.Model`,\n",
       "`Layer` instances must be assigned to object attributes, typically in the\n",
       "constructor. See the documentation of `tf.train.Checkpoint` and\n",
       "`tf.keras.Model` for details.\n",
       "\n",
       "While the formats are the same, do not mix `save_weights` and\n",
       "`tf.train.Checkpoint`. Checkpoints saved by `Model.save_weights` should be\n",
       "loaded using `Model.load_weights`. Checkpoints saved using\n",
       "`tf.train.Checkpoint.save` should be restored using the corresponding\n",
       "`tf.train.Checkpoint.restore`. Prefer `tf.train.Checkpoint` over\n",
       "`save_weights` for training checkpoints.\n",
       "\n",
       "The TensorFlow format matches objects and variables by starting at a root\n",
       "object, `self` for `save_weights`, and greedily matching attribute\n",
       "names. For `Model.save` this is the `Model`, and for `Checkpoint.save` this\n",
       "is the `Checkpoint` even if the `Checkpoint` has a model attached. This\n",
       "means saving a `tf.keras.Model` using `save_weights` and loading into a\n",
       "`tf.train.Checkpoint` with a `Model` attached (or vice versa) will not match\n",
       "the `Model`'s variables. See the [guide to training\n",
       "checkpoints](https://www.tensorflow.org/guide/checkpoint) for details\n",
       "on the TensorFlow format.\n",
       "\n",
       "Arguments:\n",
       "    filepath: String or PathLike, path to the file to save the weights to.\n",
       "        When saving in TensorFlow format, this is the prefix used for\n",
       "        checkpoint files (multiple files are generated). Note that the '.h5'\n",
       "        suffix causes weights to be saved in HDF5 format.\n",
       "    overwrite: Whether to silently overwrite any existing file at the\n",
       "        target location, or provide the user with a manual prompt.\n",
       "    save_format: Either 'tf' or 'h5'. A `filepath` ending in '.h5' or\n",
       "        '.keras' will default to HDF5 if `save_format` is `None`. Otherwise\n",
       "        `None` defaults to 'tf'.\n",
       "    options: Optional `tf.train.CheckpointOptions` object that specifies\n",
       "        options for saving weights.\n",
       "\n",
       "Raises:\n",
       "    ImportError: If h5py is not available when attempting to save in HDF5\n",
       "        format.\n",
       "    ValueError: For invalid/unknown format arguments.\n",
       "\u001b[0;31mFile:\u001b[0m      /usr/local/lib/python3.8/site-packages/tensorflow/python/keras/engine/training.py\n",
       "\u001b[0;31mType:\u001b[0m      method\n"
      ]
     },
     "metadata": {},
     "output_type": "display_data"
    }
   ],
   "source": [
    "# How you can save just the weights\n",
    "model.save_weights?"
   ]
  },
  {
   "cell_type": "code",
   "execution_count": null,
   "metadata": {},
   "outputs": [],
   "source": []
  }
 ],
 "metadata": {
  "kernelspec": {
   "display_name": "Python 3",
   "language": "python",
   "name": "python3"
  },
  "language_info": {
   "codemirror_mode": {
    "name": "ipython",
    "version": 3
   },
   "file_extension": ".py",
   "mimetype": "text/x-python",
   "name": "python",
   "nbconvert_exporter": "python",
   "pygments_lexer": "ipython3",
   "version": "3.8.3"
  }
 },
 "nbformat": 4,
 "nbformat_minor": 4
}

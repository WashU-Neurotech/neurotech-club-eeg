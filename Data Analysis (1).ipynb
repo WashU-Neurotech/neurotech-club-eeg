{
 "cells": [
  {
   "cell_type": "code",
   "execution_count": 4,
   "metadata": {},
   "outputs": [],
   "source": [
    "import pandas as pd\n",
    "import numpy as np\n",
    "import statistics \n",
    "import matplotlib.pyplot as plt"
   ]
  },
  {
   "cell_type": "code",
   "execution_count": 5,
   "metadata": {},
   "outputs": [
    {
     "name": "stdout",
     "output_type": "stream",
     "text": [
      "[Errno 2] No such file or directory: '#Change the directory where the files are stored on your local computer'\n",
      "/Users/jonmei/Downloads\n"
     ]
    }
   ],
   "source": [
    "cd #Change the directory where the files are stored on your local computer"
   ]
  },
  {
   "cell_type": "code",
   "execution_count": 6,
   "metadata": {},
   "outputs": [
    {
     "data": {
      "text/html": [
       "<div>\n",
       "<style scoped>\n",
       "    .dataframe tbody tr th:only-of-type {\n",
       "        vertical-align: middle;\n",
       "    }\n",
       "\n",
       "    .dataframe tbody tr th {\n",
       "        vertical-align: top;\n",
       "    }\n",
       "\n",
       "    .dataframe thead th {\n",
       "        text-align: right;\n",
       "    }\n",
       "</style>\n",
       "<table border=\"1\" class=\"dataframe\">\n",
       "  <thead>\n",
       "    <tr style=\"text-align: right;\">\n",
       "      <th></th>\n",
       "      <th>Timestamp</th>\n",
       "      <th>EEG.Counter</th>\n",
       "      <th>EEG.Interpolated</th>\n",
       "      <th>EEG.AF3</th>\n",
       "      <th>EEG.F7</th>\n",
       "      <th>EEG.F3</th>\n",
       "      <th>EEG.FC5</th>\n",
       "      <th>EEG.T7</th>\n",
       "      <th>EEG.P7</th>\n",
       "      <th>EEG.O1</th>\n",
       "      <th>...</th>\n",
       "      <th>POW.F8.Theta</th>\n",
       "      <th>POW.F8.Alpha</th>\n",
       "      <th>POW.F8.BetaL</th>\n",
       "      <th>POW.F8.BetaH</th>\n",
       "      <th>POW.F8.Gamma</th>\n",
       "      <th>POW.AF4.Theta</th>\n",
       "      <th>POW.AF4.Alpha</th>\n",
       "      <th>POW.AF4.BetaL</th>\n",
       "      <th>POW.AF4.BetaH</th>\n",
       "      <th>POW.AF4.Gamma</th>\n",
       "    </tr>\n",
       "  </thead>\n",
       "  <tbody>\n",
       "    <tr>\n",
       "      <th>0</th>\n",
       "      <td>1606347239</td>\n",
       "      <td>43</td>\n",
       "      <td>0</td>\n",
       "      <td>4201.410156</td>\n",
       "      <td>4151.794922</td>\n",
       "      <td>4207.436035</td>\n",
       "      <td>4168.974121</td>\n",
       "      <td>4190.897461</td>\n",
       "      <td>4182.179688</td>\n",
       "      <td>4203.974121</td>\n",
       "      <td>...</td>\n",
       "      <td>NaN</td>\n",
       "      <td>NaN</td>\n",
       "      <td>NaN</td>\n",
       "      <td>NaN</td>\n",
       "      <td>NaN</td>\n",
       "      <td>NaN</td>\n",
       "      <td>NaN</td>\n",
       "      <td>NaN</td>\n",
       "      <td>NaN</td>\n",
       "      <td>NaN</td>\n",
       "    </tr>\n",
       "    <tr>\n",
       "      <th>1</th>\n",
       "      <td>1606347239</td>\n",
       "      <td>44</td>\n",
       "      <td>0</td>\n",
       "      <td>4201.410156</td>\n",
       "      <td>4136.794922</td>\n",
       "      <td>4210.769043</td>\n",
       "      <td>4151.025879</td>\n",
       "      <td>4184.615234</td>\n",
       "      <td>4178.589844</td>\n",
       "      <td>4206.538574</td>\n",
       "      <td>...</td>\n",
       "      <td>NaN</td>\n",
       "      <td>NaN</td>\n",
       "      <td>NaN</td>\n",
       "      <td>NaN</td>\n",
       "      <td>NaN</td>\n",
       "      <td>NaN</td>\n",
       "      <td>NaN</td>\n",
       "      <td>NaN</td>\n",
       "      <td>NaN</td>\n",
       "      <td>NaN</td>\n",
       "    </tr>\n",
       "    <tr>\n",
       "      <th>2</th>\n",
       "      <td>1606347239</td>\n",
       "      <td>45</td>\n",
       "      <td>0</td>\n",
       "      <td>4196.666504</td>\n",
       "      <td>4139.615234</td>\n",
       "      <td>4206.282227</td>\n",
       "      <td>4146.153809</td>\n",
       "      <td>4184.102539</td>\n",
       "      <td>4180.641113</td>\n",
       "      <td>4204.871582</td>\n",
       "      <td>...</td>\n",
       "      <td>NaN</td>\n",
       "      <td>NaN</td>\n",
       "      <td>NaN</td>\n",
       "      <td>NaN</td>\n",
       "      <td>NaN</td>\n",
       "      <td>NaN</td>\n",
       "      <td>NaN</td>\n",
       "      <td>NaN</td>\n",
       "      <td>NaN</td>\n",
       "      <td>NaN</td>\n",
       "    </tr>\n",
       "    <tr>\n",
       "      <th>3</th>\n",
       "      <td>1606347239</td>\n",
       "      <td>46</td>\n",
       "      <td>0</td>\n",
       "      <td>4207.563965</td>\n",
       "      <td>4152.436035</td>\n",
       "      <td>4205.897461</td>\n",
       "      <td>4163.589844</td>\n",
       "      <td>4184.743652</td>\n",
       "      <td>4181.025879</td>\n",
       "      <td>4206.794922</td>\n",
       "      <td>...</td>\n",
       "      <td>NaN</td>\n",
       "      <td>NaN</td>\n",
       "      <td>NaN</td>\n",
       "      <td>NaN</td>\n",
       "      <td>NaN</td>\n",
       "      <td>NaN</td>\n",
       "      <td>NaN</td>\n",
       "      <td>NaN</td>\n",
       "      <td>NaN</td>\n",
       "      <td>NaN</td>\n",
       "    </tr>\n",
       "    <tr>\n",
       "      <th>4</th>\n",
       "      <td>1606347239</td>\n",
       "      <td>47</td>\n",
       "      <td>0</td>\n",
       "      <td>4205.641113</td>\n",
       "      <td>4152.436035</td>\n",
       "      <td>4220.000000</td>\n",
       "      <td>4180.641113</td>\n",
       "      <td>4190.256348</td>\n",
       "      <td>4178.974121</td>\n",
       "      <td>4204.743652</td>\n",
       "      <td>...</td>\n",
       "      <td>NaN</td>\n",
       "      <td>NaN</td>\n",
       "      <td>NaN</td>\n",
       "      <td>NaN</td>\n",
       "      <td>NaN</td>\n",
       "      <td>NaN</td>\n",
       "      <td>NaN</td>\n",
       "      <td>NaN</td>\n",
       "      <td>NaN</td>\n",
       "      <td>NaN</td>\n",
       "    </tr>\n",
       "    <tr>\n",
       "      <th>...</th>\n",
       "      <td>...</td>\n",
       "      <td>...</td>\n",
       "      <td>...</td>\n",
       "      <td>...</td>\n",
       "      <td>...</td>\n",
       "      <td>...</td>\n",
       "      <td>...</td>\n",
       "      <td>...</td>\n",
       "      <td>...</td>\n",
       "      <td>...</td>\n",
       "      <td>...</td>\n",
       "      <td>...</td>\n",
       "      <td>...</td>\n",
       "      <td>...</td>\n",
       "      <td>...</td>\n",
       "      <td>...</td>\n",
       "      <td>...</td>\n",
       "      <td>...</td>\n",
       "      <td>...</td>\n",
       "      <td>...</td>\n",
       "      <td>...</td>\n",
       "    </tr>\n",
       "    <tr>\n",
       "      <th>9691</th>\n",
       "      <td>1606347315</td>\n",
       "      <td>6</td>\n",
       "      <td>0</td>\n",
       "      <td>4185.769043</td>\n",
       "      <td>4169.743652</td>\n",
       "      <td>4184.487305</td>\n",
       "      <td>4180.000000</td>\n",
       "      <td>4182.051270</td>\n",
       "      <td>4195.384766</td>\n",
       "      <td>4203.974121</td>\n",
       "      <td>...</td>\n",
       "      <td>NaN</td>\n",
       "      <td>NaN</td>\n",
       "      <td>NaN</td>\n",
       "      <td>NaN</td>\n",
       "      <td>NaN</td>\n",
       "      <td>NaN</td>\n",
       "      <td>NaN</td>\n",
       "      <td>NaN</td>\n",
       "      <td>NaN</td>\n",
       "      <td>NaN</td>\n",
       "    </tr>\n",
       "    <tr>\n",
       "      <th>9692</th>\n",
       "      <td>1606347315</td>\n",
       "      <td>7</td>\n",
       "      <td>0</td>\n",
       "      <td>4190.769043</td>\n",
       "      <td>4176.666504</td>\n",
       "      <td>4192.948730</td>\n",
       "      <td>4174.743652</td>\n",
       "      <td>4187.563965</td>\n",
       "      <td>4190.000000</td>\n",
       "      <td>4195.256348</td>\n",
       "      <td>...</td>\n",
       "      <td>5.319114</td>\n",
       "      <td>4.024973</td>\n",
       "      <td>1.584221</td>\n",
       "      <td>0.710581</td>\n",
       "      <td>0.371129</td>\n",
       "      <td>2.857043</td>\n",
       "      <td>2.024399</td>\n",
       "      <td>1.46799</td>\n",
       "      <td>0.529725</td>\n",
       "      <td>0.204092</td>\n",
       "    </tr>\n",
       "    <tr>\n",
       "      <th>9693</th>\n",
       "      <td>1606347315</td>\n",
       "      <td>8</td>\n",
       "      <td>0</td>\n",
       "      <td>4199.358887</td>\n",
       "      <td>4175.512695</td>\n",
       "      <td>4214.743652</td>\n",
       "      <td>4176.282227</td>\n",
       "      <td>4184.358887</td>\n",
       "      <td>4180.128418</td>\n",
       "      <td>4186.282227</td>\n",
       "      <td>...</td>\n",
       "      <td>NaN</td>\n",
       "      <td>NaN</td>\n",
       "      <td>NaN</td>\n",
       "      <td>NaN</td>\n",
       "      <td>NaN</td>\n",
       "      <td>NaN</td>\n",
       "      <td>NaN</td>\n",
       "      <td>NaN</td>\n",
       "      <td>NaN</td>\n",
       "      <td>NaN</td>\n",
       "    </tr>\n",
       "    <tr>\n",
       "      <th>9694</th>\n",
       "      <td>1606347315</td>\n",
       "      <td>9</td>\n",
       "      <td>0</td>\n",
       "      <td>4199.487305</td>\n",
       "      <td>4172.563965</td>\n",
       "      <td>4209.230957</td>\n",
       "      <td>4189.230957</td>\n",
       "      <td>4179.230957</td>\n",
       "      <td>4175.897461</td>\n",
       "      <td>4188.846191</td>\n",
       "      <td>...</td>\n",
       "      <td>NaN</td>\n",
       "      <td>NaN</td>\n",
       "      <td>NaN</td>\n",
       "      <td>NaN</td>\n",
       "      <td>NaN</td>\n",
       "      <td>NaN</td>\n",
       "      <td>NaN</td>\n",
       "      <td>NaN</td>\n",
       "      <td>NaN</td>\n",
       "      <td>NaN</td>\n",
       "    </tr>\n",
       "    <tr>\n",
       "      <th>9695</th>\n",
       "      <td>1606347315</td>\n",
       "      <td>10</td>\n",
       "      <td>0</td>\n",
       "      <td>4191.282227</td>\n",
       "      <td>4192.820313</td>\n",
       "      <td>4197.948730</td>\n",
       "      <td>4200.769043</td>\n",
       "      <td>4186.153809</td>\n",
       "      <td>4179.743652</td>\n",
       "      <td>4187.051270</td>\n",
       "      <td>...</td>\n",
       "      <td>NaN</td>\n",
       "      <td>NaN</td>\n",
       "      <td>NaN</td>\n",
       "      <td>NaN</td>\n",
       "      <td>NaN</td>\n",
       "      <td>NaN</td>\n",
       "      <td>NaN</td>\n",
       "      <td>NaN</td>\n",
       "      <td>NaN</td>\n",
       "      <td>NaN</td>\n",
       "    </tr>\n",
       "  </tbody>\n",
       "</table>\n",
       "<p>9696 rows × 151 columns</p>\n",
       "</div>"
      ],
      "text/plain": [
       "       Timestamp  EEG.Counter  EEG.Interpolated      EEG.AF3       EEG.F7  \\\n",
       "0     1606347239           43                 0  4201.410156  4151.794922   \n",
       "1     1606347239           44                 0  4201.410156  4136.794922   \n",
       "2     1606347239           45                 0  4196.666504  4139.615234   \n",
       "3     1606347239           46                 0  4207.563965  4152.436035   \n",
       "4     1606347239           47                 0  4205.641113  4152.436035   \n",
       "...          ...          ...               ...          ...          ...   \n",
       "9691  1606347315            6                 0  4185.769043  4169.743652   \n",
       "9692  1606347315            7                 0  4190.769043  4176.666504   \n",
       "9693  1606347315            8                 0  4199.358887  4175.512695   \n",
       "9694  1606347315            9                 0  4199.487305  4172.563965   \n",
       "9695  1606347315           10                 0  4191.282227  4192.820313   \n",
       "\n",
       "           EEG.F3      EEG.FC5       EEG.T7       EEG.P7       EEG.O1  ...  \\\n",
       "0     4207.436035  4168.974121  4190.897461  4182.179688  4203.974121  ...   \n",
       "1     4210.769043  4151.025879  4184.615234  4178.589844  4206.538574  ...   \n",
       "2     4206.282227  4146.153809  4184.102539  4180.641113  4204.871582  ...   \n",
       "3     4205.897461  4163.589844  4184.743652  4181.025879  4206.794922  ...   \n",
       "4     4220.000000  4180.641113  4190.256348  4178.974121  4204.743652  ...   \n",
       "...           ...          ...          ...          ...          ...  ...   \n",
       "9691  4184.487305  4180.000000  4182.051270  4195.384766  4203.974121  ...   \n",
       "9692  4192.948730  4174.743652  4187.563965  4190.000000  4195.256348  ...   \n",
       "9693  4214.743652  4176.282227  4184.358887  4180.128418  4186.282227  ...   \n",
       "9694  4209.230957  4189.230957  4179.230957  4175.897461  4188.846191  ...   \n",
       "9695  4197.948730  4200.769043  4186.153809  4179.743652  4187.051270  ...   \n",
       "\n",
       "      POW.F8.Theta  POW.F8.Alpha  POW.F8.BetaL  POW.F8.BetaH  POW.F8.Gamma  \\\n",
       "0              NaN           NaN           NaN           NaN           NaN   \n",
       "1              NaN           NaN           NaN           NaN           NaN   \n",
       "2              NaN           NaN           NaN           NaN           NaN   \n",
       "3              NaN           NaN           NaN           NaN           NaN   \n",
       "4              NaN           NaN           NaN           NaN           NaN   \n",
       "...            ...           ...           ...           ...           ...   \n",
       "9691           NaN           NaN           NaN           NaN           NaN   \n",
       "9692      5.319114      4.024973      1.584221      0.710581      0.371129   \n",
       "9693           NaN           NaN           NaN           NaN           NaN   \n",
       "9694           NaN           NaN           NaN           NaN           NaN   \n",
       "9695           NaN           NaN           NaN           NaN           NaN   \n",
       "\n",
       "      POW.AF4.Theta  POW.AF4.Alpha  POW.AF4.BetaL  POW.AF4.BetaH  \\\n",
       "0               NaN            NaN            NaN            NaN   \n",
       "1               NaN            NaN            NaN            NaN   \n",
       "2               NaN            NaN            NaN            NaN   \n",
       "3               NaN            NaN            NaN            NaN   \n",
       "4               NaN            NaN            NaN            NaN   \n",
       "...             ...            ...            ...            ...   \n",
       "9691            NaN            NaN            NaN            NaN   \n",
       "9692       2.857043       2.024399        1.46799       0.529725   \n",
       "9693            NaN            NaN            NaN            NaN   \n",
       "9694            NaN            NaN            NaN            NaN   \n",
       "9695            NaN            NaN            NaN            NaN   \n",
       "\n",
       "      POW.AF4.Gamma  \n",
       "0               NaN  \n",
       "1               NaN  \n",
       "2               NaN  \n",
       "3               NaN  \n",
       "4               NaN  \n",
       "...             ...  \n",
       "9691            NaN  \n",
       "9692       0.204092  \n",
       "9693            NaN  \n",
       "9694            NaN  \n",
       "9695            NaN  \n",
       "\n",
       "[9696 rows x 151 columns]"
      ]
     },
     "execution_count": 6,
     "metadata": {},
     "output_type": "execute_result"
    }
   ],
   "source": [
    "trainfile=pd.read_csv('bradley_nback_4.csv',skiprows=1) #Delete the first row to make things easier formatting wise\n",
    "trainfile"
   ]
  },
  {
   "cell_type": "code",
   "execution_count": 4,
   "metadata": {},
   "outputs": [
    {
     "name": "stdout",
     "output_type": "stream",
     "text": [
      "70\n",
      "(9696, 151)\n",
      "               pow means\n",
      "POW.AF3.Theta   0.502816\n",
      "POW.AF3.Alpha   0.455791\n",
      "POW.AF3.BetaL   0.288532\n",
      "POW.AF3.BetaH   0.360582\n",
      "POW.AF3.Gamma   1.635086\n",
      "POW.F7.Theta    0.794702\n",
      "POW.F7.Alpha    0.763935\n",
      "POW.F7.BetaL    0.499840\n",
      "POW.F7.BetaH    0.461580\n",
      "POW.F7.Gamma    1.487947\n",
      "POW.F3.Theta    0.635836\n",
      "POW.F3.Alpha    0.611053\n",
      "POW.F3.BetaL    0.394790\n",
      "POW.F3.BetaH    0.316845\n",
      "POW.F3.Gamma    0.912504\n",
      "POW.FC5.Theta   0.542730\n",
      "POW.FC5.Alpha   0.658173\n",
      "POW.FC5.BetaL   0.766420\n",
      "POW.FC5.BetaH   0.784623\n",
      "POW.FC5.Gamma   0.638709\n",
      "POW.T7.Theta    0.360319\n",
      "POW.T7.Alpha    0.255642\n",
      "POW.T7.BetaL    0.157632\n",
      "POW.T7.BetaH    0.143343\n",
      "POW.T7.Gamma    0.723012\n",
      "POW.P7.Theta    0.396567\n",
      "POW.P7.Alpha    0.323607\n",
      "POW.P7.BetaL    0.186532\n",
      "POW.P7.BetaH    0.174827\n",
      "POW.P7.Gamma    0.474977\n",
      "POW.O1.Theta    0.336621\n",
      "POW.O1.Alpha    0.295215\n",
      "POW.O1.BetaL    0.154494\n",
      "POW.O1.BetaH    0.117354\n",
      "POW.O1.Gamma    1.327620\n",
      "POW.O2.Theta    1.175822\n",
      "POW.O2.Alpha    1.081129\n",
      "POW.O2.BetaL    0.489868\n",
      "POW.O2.BetaH    0.320510\n",
      "POW.O2.Gamma    1.881778\n",
      "POW.P8.Theta    1.519019\n",
      "POW.P8.Alpha    1.380252\n",
      "POW.P8.BetaL    0.556405\n",
      "POW.P8.BetaH    0.288960\n",
      "POW.P8.Gamma    1.948850\n",
      "POW.T8.Theta    1.275729\n",
      "POW.T8.Alpha    1.346644\n",
      "POW.T8.BetaL    0.704152\n",
      "POW.T8.BetaH    0.419762\n",
      "POW.T8.Gamma    2.544511\n",
      "POW.FC6.Theta   1.163511\n",
      "POW.FC6.Alpha   1.182535\n",
      "POW.FC6.BetaL   0.657889\n",
      "POW.FC6.BetaH   0.470445\n",
      "POW.FC6.Gamma   2.050131\n",
      "POW.F4.Theta    0.714853\n",
      "POW.F4.Alpha    0.651867\n",
      "POW.F4.BetaL    0.349570\n",
      "POW.F4.BetaH    0.193915\n",
      "POW.F4.Gamma    5.754355\n",
      "POW.F8.Theta    1.620009\n",
      "POW.F8.Alpha    1.397901\n",
      "POW.F8.BetaL    0.573176\n",
      "POW.F8.BetaH    0.345273\n",
      "POW.F8.Gamma    6.205683\n",
      "POW.AF4.Theta   1.274938\n",
      "POW.AF4.Alpha   1.046153\n",
      "POW.AF4.BetaL   0.465192\n",
      "POW.AF4.BetaH   0.219324\n",
      "POW.AF4.Gamma   0.219324\n"
     ]
    }
   ],
   "source": [
    "#Note: This gives the mean of all power bands even though we probably only need to use alpha, theta, low beta\n",
    "meanArray=[0]*70 #70 power band columns\n",
    "print(len(meanArray))\n",
    "print(np.shape(trainfile))\n",
    "for cols in range(82, 151):\n",
    "    eegData = trainfile.iloc[:,cols].values\n",
    "    eegData=eegData[~np.isnan(eegData)] #Ignore cells with NaN values\n",
    "    meanArray.append(statistics.mean(eegData))#create new array to store means of each column--note array has extra zeros to be removed a few lines down\n",
    "    if cols==150: \n",
    "        eegData = trainfile.iloc[:,-1].values\n",
    "        eegData=eegData[~np.isnan(eegData)]\n",
    "        meanArray.append(statistics.mean(eegData))\n",
    "def remove(list, val):\n",
    "   return [value for value in list if value != val]\n",
    "\n",
    "meanArray = remove(meanArray, 0)# remove zeros\n",
    "\n",
    "#print(len(meanArray))\n",
    "meanFrame = pd.DataFrame(meanArray, index = ['POW.AF3.Theta','POW.AF3.Alpha','POW.AF3.BetaL','POW.AF3.BetaH','POW.AF3.Gamma','POW.F7.Theta','POW.F7.Alpha','POW.F7.BetaL','POW.F7.BetaH','POW.F7.Gamma','POW.F3.Theta','POW.F3.Alpha','POW.F3.BetaL','POW.F3.BetaH','POW.F3.Gamma','POW.FC5.Theta','POW.FC5.Alpha','POW.FC5.BetaL','POW.FC5.BetaH','POW.FC5.Gamma','POW.T7.Theta','POW.T7.Alpha','POW.T7.BetaL','POW.T7.BetaH','POW.T7.Gamma','POW.P7.Theta','POW.P7.Alpha','POW.P7.BetaL','POW.P7.BetaH','POW.P7.Gamma','POW.O1.Theta','POW.O1.Alpha','POW.O1.BetaL','POW.O1.BetaH','POW.O1.Gamma','POW.O2.Theta','POW.O2.Alpha','POW.O2.BetaL','POW.O2.BetaH','POW.O2.Gamma','POW.P8.Theta','POW.P8.Alpha','POW.P8.BetaL','POW.P8.BetaH','POW.P8.Gamma','POW.T8.Theta','POW.T8.Alpha','POW.T8.BetaL','POW.T8.BetaH','POW.T8.Gamma','POW.FC6.Theta','POW.FC6.Alpha','POW.FC6.BetaL','POW.FC6.BetaH','POW.FC6.Gamma','POW.F4.Theta','POW.F4.Alpha','POW.F4.BetaL','POW.F4.BetaH','POW.F4.Gamma','POW.F8.Theta','POW.F8.Alpha','POW.F8.BetaL','POW.F8.BetaH','POW.F8.Gamma','POW.AF4.Theta','POW.AF4.Alpha','POW.AF4.BetaL','POW.AF4.BetaH','POW.AF4.Gamma'], columns = ['pow means'])\n",
    "pd.set_option('display.max_rows', None)\n",
    "pd.set_option('display.max_columns', None)\n",
    "pd.set_option('display.width', None)\n",
    "pd.set_option('display.max_colwidth', None)\n",
    "print(meanFrame)"
   ]
  },
  {
   "cell_type": "code",
   "execution_count": 18,
   "metadata": {},
   "outputs": [
    {
     "data": {
      "text/plain": [
       "<AxesSubplot:title={'center':'Theta'}>"
      ]
     },
     "execution_count": 18,
     "metadata": {},
     "output_type": "execute_result"
    },
    {
     "data": {
      "image/png": "[encoded data removed]",
      "text/plain": [
       "<Figure size 432x288 with 1 Axes>"
      ]
     },
     "metadata": {
      "needs_background": "light"
     },
     "output_type": "display_data"
    }
   ],
   "source": [
    "time = [];\n",
    "Theta = trainfile.iloc[:,81].values\n",
    "Theta = Theta[~np.isnan(Theta)]\n",
    "for x in range (12,9695,16):\n",
    "    time.append(trainfile.iloc[x,0])\n",
    "ser = pd.Series(data = Theta, index = time)\n",
    "ser.plot(kind='line', title = 'Theta')"
   ]
  },
  {
   "cell_type": "code",
   "execution_count": 16,
   "metadata": {},
   "outputs": [
    {
     "data": {
      "text/plain": [
       "<AxesSubplot:title={'center':'Alpha'}>"
      ]
     },
     "execution_count": 16,
     "metadata": {},
     "output_type": "execute_result"
    },
    {
     "data": {
      "image/png": "[encoded data removed]",
      "text/plain": [
       "<Figure size 432x288 with 1 Axes>"
      ]
     },
     "metadata": {
      "needs_background": "light"
     },
     "output_type": "display_data"
    }
   ],
   "source": [
    "Alpha = trainfile.iloc[:,82].values\n",
    "Alpha = Alpha[~np.isnan(Alpha)]\n",
    "ser = pd.Series(data = Alpha, index = time)\n",
    "ser.plot(kind='line', title = 'Alpha')\n"
   ]
  },
  {
   "cell_type": "code",
   "execution_count": 19,
   "metadata": {},
   "outputs": [
    {
     "data": {
      "text/plain": [
       "<AxesSubplot:title={'center':'BetaL'}>"
      ]
     },
     "execution_count": 19,
     "metadata": {},
     "output_type": "execute_result"
    },
    {
     "data": {
      "image/png": "[encoded data removed]",
      "text/plain": [
       "<Figure size 432x288 with 1 Axes>"
      ]
     },
     "metadata": {
      "needs_background": "light"
     },
     "output_type": "display_data"
    }
   ],
   "source": [
    "BetaL = trainfile.iloc[:,83].values\n",
    "BetaL = BetaL[~np.isnan(BetaL)]\n",
    "ser = pd.Series(data = BetaL, index = time)\n",
    "ser.plot(kind='line', title = 'BetaL')\n"
   ]
  },
  {
   "cell_type": "code",
   "execution_count": 20,
   "metadata": {},
   "outputs": [
    {
     "data": {
      "text/plain": [
       "<AxesSubplot:title={'center':'BetaH'}>"
      ]
     },
     "execution_count": 20,
     "metadata": {},
     "output_type": "execute_result"
    },
    {
     "data": {
      "image/png": "[encoded data removed]",
      "text/plain": [
       "<Figure size 432x288 with 1 Axes>"
      ]
     },
     "metadata": {
      "needs_background": "light"
     },
     "output_type": "display_data"
    }
   ],
   "source": [
    "BetaH = trainfile.iloc[:,84].values\n",
    "BetaH = BetaH[~np.isnan(BetaH)]\n",
    "ser = pd.Series(data = BetaH, index = time)\n",
    "ser.plot(kind='line', title = 'BetaH')\n"
   ]
  },
  {
   "cell_type": "code",
   "execution_count": 21,
   "metadata": {},
   "outputs": [
    {
     "data": {
      "text/plain": [
       "<AxesSubplot:title={'center':'Gamma'}>"
      ]
     },
     "execution_count": 21,
     "metadata": {},
     "output_type": "execute_result"
    },
    {
     "data": {
      "image/png": "[encoded data removed]",
      "text/plain": [
       "<Figure size 432x288 with 1 Axes>"
      ]
     },
     "metadata": {
      "needs_background": "light"
     },
     "output_type": "display_data"
    }
   ],
   "source": [
    "Gamma = trainfile.iloc[:,85].values\n",
    "Gamma = Gamma[~np.isnan(Gamma)]\n",
    "ser = pd.Series(data = Gamma, index = time)\n",
    "ser.plot(kind='line', title = 'Gamma')\n"
   ]
  },
  {
   "cell_type": "code",
   "execution_count": null,
   "metadata": {},
   "outputs": [],
   "source": []
  },
  {
   "cell_type": "code",
   "execution_count": null,
   "metadata": {},
   "outputs": [],
   "source": []
  }
 ],
 "metadata": {
  "kernelspec": {
   "display_name": "Python 3",
   "language": "python",
   "name": "python3"
  },
  "language_info": {
   "codemirror_mode": {
    "name": "ipython",
    "version": 3
   },
   "file_extension": ".py",
   "mimetype": "text/x-python",
   "name": "python",
   "nbconvert_exporter": "python",
   "pygments_lexer": "ipython3",
   "version": "3.9.1"
  }
 },
 "nbformat": 4,
 "nbformat_minor": 4
}
